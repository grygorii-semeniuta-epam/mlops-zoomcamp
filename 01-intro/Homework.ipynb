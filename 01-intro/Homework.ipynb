{
 "cells": [
  {
   "cell_type": "code",
   "execution_count": 32,
   "id": "b0eac226-12ef-4b27-810e-e201b606c904",
   "metadata": {},
   "outputs": [],
   "source": [
    "import pandas as pd\n",
    "\n",
    "from sklearn.feature_extraction import DictVectorizer\n",
    "from sklearn.linear_model import LinearRegression\n",
    "from sklearn.metrics import root_mean_squared_error"
   ]
  },
  {
   "cell_type": "code",
   "execution_count": 33,
   "id": "10f3e798-4590-4b19-bde7-6a8ef6b9cc3d",
   "metadata": {},
   "outputs": [
    {
     "data": {
      "text/plain": [
       "'2.2.3'"
      ]
     },
     "execution_count": 33,
     "metadata": {},
     "output_type": "execute_result"
    }
   ],
   "source": [
    "pd.__version__"
   ]
  },
  {
   "cell_type": "markdown",
   "id": "0b2485ea",
   "metadata": {},
   "source": [
    "### Q1. Downloading the data\n",
    "\n",
    "We'll use [the same NYC taxi dataset](https://www1.nyc.gov/site/tlc/about/tlc-trip-record-data.page),\n",
    "but instead of \"**Green** Taxi Trip Records\", we'll use \"**Yellow** Taxi Trip Records\".\n",
    "\n",
    "Download the data for January and February 2023.\n",
    "\n",
    "Read the data for January. How many columns are there?"
   ]
  },
  {
   "cell_type": "code",
   "execution_count": 39,
   "id": "49ca9973",
   "metadata": {},
   "outputs": [
    {
     "data": {
      "text/plain": [
       "19"
      ]
     },
     "execution_count": 39,
     "metadata": {},
     "output_type": "execute_result"
    }
   ],
   "source": [
    "df = pd.read_parquet('https://d37ci6vzurychx.cloudfront.net/trip-data/yellow_tripdata_2023-01.parquet')\n",
    "len(df.columns)"
   ]
  },
  {
   "cell_type": "markdown",
   "id": "85454018",
   "metadata": {},
   "source": [
    "### Q2. Computing duration\n",
    "\n",
    "Now let's compute the `duration` variable. It should contain the duration of a ride in minutes. \n",
    "\n",
    "What's the standard deviation of the trips duration in January?"
   ]
  },
  {
   "cell_type": "code",
   "execution_count": 40,
   "id": "71f37a23-99b9-4d44-8534-65fc7f3b67e1",
   "metadata": {},
   "outputs": [
    {
     "name": "stdout",
     "output_type": "stream",
     "text": [
      "42.594351241920904\n"
     ]
    }
   ],
   "source": [
    "df['duration'] = df.tpep_dropoff_datetime - df.tpep_pickup_datetime\n",
    "df.duration = df.duration.apply(lambda td: td.total_seconds() / 60)\n",
    "\n",
    "std_duration = df['duration'].std()\n",
    "print(std_duration)\n"
   ]
  },
  {
   "cell_type": "markdown",
   "id": "84364c4a",
   "metadata": {},
   "source": [
    "### Q3. Dropping outliers\n",
    "\n",
    "Next, we need to check the distribution of the `duration` variable. There are some outliers. Let's remove them and keep only the records where the duration was between 1 and 60 minutes (inclusive).\n",
    "\n",
    "What fraction of the records left after you dropped the outliers?"
   ]
  },
  {
   "cell_type": "code",
   "execution_count": 41,
   "id": "34c10840",
   "metadata": {},
   "outputs": [
    {
     "data": {
      "text/plain": [
       "3066766"
      ]
     },
     "execution_count": 41,
     "metadata": {},
     "output_type": "execute_result"
    }
   ],
   "source": [
    "len(df)"
   ]
  },
  {
   "cell_type": "code",
   "execution_count": 42,
   "id": "24b51b57",
   "metadata": {},
   "outputs": [
    {
     "data": {
      "text/plain": [
       "3009173"
      ]
     },
     "execution_count": 42,
     "metadata": {},
     "output_type": "execute_result"
    }
   ],
   "source": [
    "df_wo_outliers = df[(df.duration >= 1) & (df.duration <= 60)]\n",
    "len(df_wo_outliers)"
   ]
  },
  {
   "cell_type": "code",
   "execution_count": 43,
   "id": "3618f6cf",
   "metadata": {},
   "outputs": [
    {
     "name": "stdout",
     "output_type": "stream",
     "text": [
      "98.1220282212598\n"
     ]
    }
   ],
   "source": [
    "fraction_left = len(df_wo_outliers) * 100 / len(df) \n",
    "print(fraction_left)"
   ]
  },
  {
   "cell_type": "markdown",
   "id": "2706e35a",
   "metadata": {},
   "source": [
    "### Q4. One-hot encoding\n",
    "\n",
    "Let's apply one-hot encoding to the pickup and dropoff location IDs.  \n",
    "What's the dimensionality of this matrix (number of columns)?"
   ]
  },
  {
   "cell_type": "code",
   "execution_count": 45,
   "id": "193e566c",
   "metadata": {},
   "outputs": [
    {
     "name": "stderr",
     "output_type": "stream",
     "text": [
      "/tmp/ipykernel_26560/4056254512.py:2: SettingWithCopyWarning: \n",
      "A value is trying to be set on a copy of a slice from a DataFrame.\n",
      "Try using .loc[row_indexer,col_indexer] = value instead\n",
      "\n",
      "See the caveats in the documentation: https://pandas.pydata.org/pandas-docs/stable/user_guide/indexing.html#returning-a-view-versus-a-copy\n",
      "  df_wo_outliers[categorical] = df_wo_outliers[categorical].astype(str)\n"
     ]
    },
    {
     "name": "stdout",
     "output_type": "stream",
     "text": [
      "515\n"
     ]
    }
   ],
   "source": [
    "categorical = ['PULocationID', 'DOLocationID']\n",
    "df_wo_outliers[categorical] = df_wo_outliers[categorical].astype(str)\n",
    "train_dicts = df_wo_outliers[categorical].to_dict(orient='records')\n",
    "dv = DictVectorizer()\n",
    "X_train = dv.fit_transform(train_dicts)\n",
    "print(X_train.shape[1])"
   ]
  },
  {
   "cell_type": "markdown",
   "id": "33673dab",
   "metadata": {},
   "source": [
    "### Q5. Training a model\n",
    "\n",
    "Now let's use the feature matrix from the previous step to train a model. \n",
    "\n",
    "* Train a plain linear regression model with default parameters, where duration is the response variable\n",
    "* Calculate the RMSE of the model on the training data\n",
    "\n",
    "What's the RMSE on train?"
   ]
  },
  {
   "cell_type": "code",
   "execution_count": 47,
   "id": "57807400",
   "metadata": {},
   "outputs": [
    {
     "data": {
      "text/plain": [
       "7.649261952010433"
      ]
     },
     "execution_count": 47,
     "metadata": {},
     "output_type": "execute_result"
    }
   ],
   "source": [
    "target = 'duration'\n",
    "y_train = df_wo_outliers[target].values\n",
    "\n",
    "lr = LinearRegression()\n",
    "lr.fit(X_train, y_train)\n",
    "\n",
    "y_pred = lr.predict(X_train)\n",
    "\n",
    "root_mean_squared_error(y_train, y_pred)"
   ]
  },
  {
   "cell_type": "markdown",
   "id": "eed0a099",
   "metadata": {},
   "source": [
    "### Q6. Evaluating the model\n",
    "\n",
    "Now let's apply this model to the validation dataset (February 2023). \n",
    "\n",
    "What's the RMSE on validation?"
   ]
  },
  {
   "cell_type": "code",
   "execution_count": 50,
   "id": "88252e1f",
   "metadata": {},
   "outputs": [
    {
     "name": "stderr",
     "output_type": "stream",
     "text": [
      "/tmp/ipykernel_26560/3767685214.py:6: SettingWithCopyWarning: \n",
      "A value is trying to be set on a copy of a slice from a DataFrame.\n",
      "Try using .loc[row_indexer,col_indexer] = value instead\n",
      "\n",
      "See the caveats in the documentation: https://pandas.pydata.org/pandas-docs/stable/user_guide/indexing.html#returning-a-view-versus-a-copy\n",
      "  df_val_wo_outliers[categorical] = df_val_wo_outliers[categorical].astype(str)\n"
     ]
    },
    {
     "data": {
      "text/plain": [
       "7.778948516876832"
      ]
     },
     "execution_count": 50,
     "metadata": {},
     "output_type": "execute_result"
    }
   ],
   "source": [
    "df_val = pd.read_parquet('https://d37ci6vzurychx.cloudfront.net/trip-data/yellow_tripdata_2023-02.parquet')\n",
    "df_val['duration'] = df_val.tpep_dropoff_datetime - df_val.tpep_pickup_datetime\n",
    "df_val.duration = df_val.duration.apply(lambda td: td.total_seconds() / 60)\n",
    "df_val_wo_outliers = df_val[(df_val.duration >= 1) & (df_val.duration <= 60)]\n",
    "categorical = ['PULocationID', 'DOLocationID']\n",
    "df_val_wo_outliers[categorical] = df_val_wo_outliers[categorical].astype(str)\n",
    "val_dicts = df_val_wo_outliers[categorical].to_dict(orient='records')\n",
    "X_val = dv.fit_transform(val_dicts)\n",
    "target = 'duration'\n",
    "y_val = df_val_wo_outliers[target].values\n",
    "lr.fit(X_val, y_val)\n",
    "y_pred = lr.predict(X_val)\n",
    "root_mean_squared_error(y_val, y_pred)"
   ]
  }
 ],
 "metadata": {
  "kernelspec": {
   "display_name": "Python 3 (ipykernel)",
   "language": "python",
   "name": "python3"
  },
  "language_info": {
   "codemirror_mode": {
    "name": "ipython",
    "version": 3
   },
   "file_extension": ".py",
   "mimetype": "text/x-python",
   "name": "python",
   "nbconvert_exporter": "python",
   "pygments_lexer": "ipython3",
   "version": "3.13.5"
  }
 },
 "nbformat": 4,
 "nbformat_minor": 5
}
